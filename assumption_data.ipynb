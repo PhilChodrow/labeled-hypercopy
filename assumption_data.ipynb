{
 "cells": [
  {
   "cell_type": "code",
   "execution_count": 1,
   "metadata": {},
   "outputs": [],
   "source": [
    "%load_ext autoreload\n",
    "%autoreload\n",
    "import poisson_hypergraph\n",
    "import xgi\n",
    "import matplotlib.pyplot as plt\n",
    "import numpy as np\n",
    "import csv"
   ]
  },
  {
   "cell_type": "code",
   "execution_count": 62,
   "metadata": {},
   "outputs": [],
   "source": [
    "def generate_data_multi(p, q, timesteps, experiments):\n",
    "    beta_vals = np.arange(0, 1, step = 0.1)\n",
    "    data = [[\"beta\", \"actual k_0/k\", \"estimate k_0/k\", \"actual k_1/k\", \"estimate k_1/k\", \n",
    "            \"actual k_0^2/k\", \"estimate k_0^2/k\", \"actual k_1^2/k\", \"estimate k_1^2/k\", \"overall 1 prop\"]]\n",
    "    for beta in beta_vals:\n",
    "        print(\"beta: \" + str(beta))\n",
    "        estimates = []\n",
    "        for experiment in range(experiments):\n",
    "            H = xgi.Hypergraph([[0, 1]])\n",
    "            H.set_node_attributes({0 : 0, 1 : 1}, name = \"label\")\n",
    "            GH = poisson_hypergraph.GH(H, [0, 1], p, q)\n",
    "\n",
    "            GH.add_hyperedge(timesteps, beta, 1 - beta, beta, 1 - beta)\n",
    "            \n",
    "            k_0_list = []\n",
    "            k_1_list = []\n",
    "            k_list = []\n",
    "            prop_0_list = []\n",
    "            prop_1_list = []\n",
    "            prop_0_sq_list = []\n",
    "            prop_1_sq_list = []\n",
    "            labels = GH.node_labels\n",
    "            for edge in GH.edge_members:\n",
    "                edge_labels = [labels[node] for node in edge]\n",
    "                k_1_list.append(sum(edge_labels))\n",
    "                k_0_list.append(len(edge_labels) - sum(edge_labels))\n",
    "                k_list.append(len(edge_labels))\n",
    "                prop_1_list.append(sum(edge_labels)/len(edge_labels))\n",
    "                prop_0_list.append((len(edge_labels) - sum(edge_labels))/len(edge_labels))\n",
    "                prop_1_sq_list.append((sum(edge_labels)**2)/len(edge_labels))\n",
    "                prop_0_sq_list.append(((len(edge_labels) - sum(edge_labels))**2)/len(edge_labels))\n",
    "            mean_k_0 =  sum(k_0_list)/len(k_0_list)\n",
    "            mean_k_1 =  sum(k_1_list)/len(k_1_list)\n",
    "            mean_sq_0 = sum([num ** 2 for num in k_0_list])/len(k_0_list)\n",
    "            mean_sq_1 = sum([num ** 2 for num in k_1_list])/len(k_1_list)\n",
    "            mean_k =  sum(k_list)/len(k_list)\n",
    "            mean_prop_0 = sum(prop_0_list)/len(prop_0_list)\n",
    "            mean_prop_1 = sum(prop_1_list)/len(prop_1_list)\n",
    "            mean_prop_0_sq = sum(prop_0_sq_list)/len(prop_0_sq_list)\n",
    "            mean_prop_1_sq = sum(prop_1_sq_list)/len(prop_1_sq_list)\n",
    "            estimates.append([mean_prop_0, mean_k_0/mean_k, mean_prop_1, mean_k_1/mean_k,\n",
    "                    mean_prop_0_sq, mean_sq_0/mean_k,   mean_prop_1_sq, mean_sq_1/mean_k, sum(labels)/len(labels)])\n",
    "        estimates = np.array(estimates)\n",
    "        data.append([beta, sum(estimates[:,0]) / len(estimates[:,0]), sum(estimates[:,1]) / len(estimates[:,1]), \n",
    "                     sum(estimates[:,2]) / len(estimates[:,2]), sum(estimates[:,3]) / len(estimates[:,3]), \n",
    "                     sum(estimates[:,4]) / len(estimates[:,4]), sum(estimates[:,5]) / len(estimates[:,5]),\n",
    "                     sum(estimates[:,6]) / len(estimates[:,6]), sum(estimates[:,7]) / len(estimates[:,7]),\n",
    "                     sum(estimates[:,8]) / len(estimates[:,8])])\n",
    "    return data"
   ]
  },
  {
   "cell_type": "code",
   "execution_count": 56,
   "metadata": {},
   "outputs": [],
   "source": [
    "def generate_data_multi_sqprop(p, q, timesteps, experiments):\n",
    "    beta_vals = np.arange(0, 1, step = 0.1)\n",
    "    data = [[\"beta\",\"actual k_0^2/k\", \"estimate k_0^2/k\", \"actual k_1^2/k\", \"estimate k_1^2/k\"]]\n",
    "    for beta in beta_vals:\n",
    "        print(\"beta: \" + str(beta))\n",
    "        estimates = []\n",
    "        for experiment in range(experiments):\n",
    "            H = xgi.Hypergraph([[0, 1]])\n",
    "            H.set_node_attributes({0 : 0, 1 : 1}, name = \"label\")\n",
    "            GH = poisson_hypergraph.GH(H, [0, 1], p, q)\n",
    "\n",
    "            GH.add_hyperedge(timesteps, beta, 1 - beta, beta, 1 - beta)\n",
    "            \n",
    "            k_0_list = []\n",
    "            k_1_list = []\n",
    "            k_list = []\n",
    "            prop_0_list = []\n",
    "            prop_1_list = []\n",
    "            prop_0_sq_list = []\n",
    "            prop_1_sq_list = []\n",
    "            labels = GH.node_labels\n",
    "            for edge in GH.edge_members:\n",
    "                edge_labels = [labels[node] for node in edge]\n",
    "                k_1_list.append(sum(edge_labels))\n",
    "                k_0_list.append(len(edge_labels) - sum(edge_labels))\n",
    "                k_list.append(len(edge_labels))\n",
    "                prop_1_list.append(sum(edge_labels)/len(edge_labels))\n",
    "                prop_0_list.append((len(edge_labels) - sum(edge_labels))/len(edge_labels))\n",
    "                prop_1_sq_list.append((sum(edge_labels)**2)/len(edge_labels))\n",
    "                prop_0_sq_list.append(((len(edge_labels) - sum(edge_labels))**2)/len(edge_labels))\n",
    "            mean_k_0 =  sum(k_0_list)/len(k_0_list)\n",
    "            mean_k_1 =  sum(k_1_list)/len(k_1_list)\n",
    "            mean_k =  sum(k_list)/len(k_list)\n",
    "            mean_prop_0_sq = sum(prop_0_sq_list)/len(prop_0_sq_list)\n",
    "            mean_prop_1_sq = sum(prop_1_sq_list)/len(prop_1_sq_list)\n",
    "            estimates.append([mean_prop_0_sq, ((mean_k_0 ** 2) + mean_k_0)/mean_k, mean_prop_1_sq, ((mean_k_1 ** 2) + mean_k_1)/mean_k])\n",
    "        estimates = np.array(estimates)\n",
    "        data.append([beta, sum(estimates[:,0]) / len(estimates[:,0]), sum(estimates[:,1]) / len(estimates[:,1]), \n",
    "                     sum(estimates[:,2]) / len(estimates[:,2]), sum(estimates[:,3]) / len(estimates[:,3])])\n",
    "    return data"
   ]
  },
  {
   "cell_type": "code",
   "execution_count": 54,
   "metadata": {},
   "outputs": [],
   "source": [
    "def generate_data_multi_assm0(p, q, timesteps, experiments):\n",
    "    beta_vals = np.arange(0, 1, step = 0.1)\n",
    "    data = [[\"beta\",\"actual k_0\", \"estimate k_0\", \"actual k_1\", \"estimate k_1\", \"actual k_0/k\", \"estimate k_0/k\", \"actual k_1/k\", \"estimate k_1/k\", \n",
    "            \"actual k_0^2/k\", \"estimate k_0^2/k\", \"actual k_1^2/k\", \"estimate k_1^2/k\"]]\n",
    "    for beta in beta_vals:\n",
    "        print(\"beta: \" + str(beta))\n",
    "        estimates = []\n",
    "        for experiment in range(experiments):\n",
    "            H = xgi.Hypergraph([[0, 1]])\n",
    "            H.set_node_attributes({0 : 0, 1 : 1}, name = \"label\")\n",
    "            GH = poisson_hypergraph.GH(H, [0, 1], p, q)\n",
    "\n",
    "            GH.add_hyperedge(timesteps, beta, 1 - beta, beta, 1 - beta)\n",
    "            \n",
    "            e_k_0_list = []\n",
    "            e_k_1_list = []\n",
    "            e_prop_0_list = []\n",
    "            e_prop_1_list = []\n",
    "            e_prop_0_sq_list = []\n",
    "            e_prop_1_sq_list = []\n",
    "            labels = GH.node_labels\n",
    "            i_ests = []\n",
    "            e_ests = []\n",
    "            for edge_ind in range(1, len(GH.edge_members)):\n",
    "                edge = GH.edge_members[edge_ind]\n",
    "                i_k_0_list = []\n",
    "                i_k_1_list = []\n",
    "                i_prop_0_list = []\n",
    "                i_prop_1_list = []\n",
    "                i_prop_0_sq_list = []\n",
    "                i_prop_1_sq_list = []\n",
    "                prev_edges = GH.edge_members[0:edge_ind]\n",
    "                for i in prev_edges:\n",
    "                    i_labels = [labels[node] for node in i]\n",
    "                    i_k_1_list.append(sum(i_labels))\n",
    "                    i_k_0_list.append(len(i_labels) - sum(i_labels))\n",
    "                    i_prop_1_list.append(sum(i_labels)/len(i_labels))\n",
    "                    i_prop_0_list.append((len(i_labels) - sum(i_labels))/len(i_labels))\n",
    "                    i_prop_1_sq_list.append((sum(i_labels)**2)/len(i_labels))\n",
    "                    i_prop_0_sq_list.append(((len(i_labels) - sum(i_labels))**2)/len(i_labels))\n",
    "                mean_k_0 =  sum(i_k_0_list)/len(i_k_0_list)\n",
    "                mean_k_1 =  sum(i_k_1_list)/len(i_k_1_list)\n",
    "                mean_prop_0 = sum(i_prop_0_list)/len(i_prop_0_list)\n",
    "                mean_prop_1 = sum(i_prop_1_list)/len(i_prop_1_list)\n",
    "                mean_prop_0_sq = sum(i_prop_0_sq_list)/len(i_prop_0_sq_list)\n",
    "                mean_prop_1_sq = sum(i_prop_1_sq_list)/len(i_prop_1_sq_list)\n",
    "                i_ests.append([mean_k_0, mean_k_1, mean_prop_0, mean_prop_1, mean_prop_0_sq, mean_prop_1_sq])\n",
    "\n",
    "                e_labels = [labels[node] for node in edge]\n",
    "                e_k_1_list.append(sum(e_labels))\n",
    "                e_k_0_list.append(len(e_labels) - sum(e_labels))\n",
    "                e_prop_1_list.append(sum(e_labels)/len(e_labels))\n",
    "                e_prop_0_list.append((len(e_labels) - sum(e_labels))/len(e_labels))\n",
    "                e_prop_1_sq_list.append((sum(e_labels)**2)/len(e_labels))\n",
    "                e_prop_0_sq_list.append(((len(e_labels) - sum(e_labels))**2)/len(e_labels))\n",
    "            mean_k_0 =  sum(e_k_0_list)/len(e_k_0_list)\n",
    "            mean_k_1 =  sum(e_k_1_list)/len(e_k_1_list)\n",
    "            mean_prop_0 = sum(e_prop_0_list)/len(e_prop_0_list)\n",
    "            mean_prop_1 = sum(e_prop_1_list)/len(e_prop_1_list)\n",
    "            mean_prop_0_sq = sum(e_prop_0_sq_list)/len(e_prop_0_sq_list)\n",
    "            mean_prop_1_sq = sum(e_prop_1_sq_list)/len(e_prop_1_sq_list)\n",
    "            i_ests = np.array(i_ests)\n",
    "            e_ests.append([mean_k_0, sum(i_ests[:,0]) / len(i_ests[:,0]), mean_k_1, sum(i_ests[:,1]) / len(i_ests[:,1]), \n",
    "                           mean_prop_0, sum(i_ests[:,2]) / len(i_ests[:,2]), mean_prop_1, sum(i_ests[:,3]) / len(i_ests[:,3]), \n",
    "                           mean_prop_0_sq, sum(i_ests[:,4]) / len(i_ests[:,4]), mean_prop_1_sq, sum(i_ests[:,5]) / len(i_ests[:,5])])\n",
    "        estimates = np.array(e_ests)\n",
    "        data.append([beta, sum(estimates[:,0]) / len(estimates[:,0]), sum(estimates[:,1]) / len(estimates[:,1]), \n",
    "                sum(estimates[:,2]) / len(estimates[:,2]), sum(estimates[:,3]) / len(estimates[:,3]), \n",
    "                sum(estimates[:,4]) / len(estimates[:,4]), sum(estimates[:,5]) / len(estimates[:,5]),\n",
    "                sum(estimates[:,6]) / len(estimates[:,6]), sum(estimates[:,7]) / len(estimates[:,7]),\n",
    "                sum(estimates[:,8]) / len(estimates[:,8]), sum(estimates[:,9]) / len(estimates[:,9]),\n",
    "                sum(estimates[:,10]) / len(estimates[:,10]), sum(estimates[:,11]) / len(estimates[:,11])])\n",
    "    return data"
   ]
  },
  {
   "cell_type": "code",
   "execution_count": 63,
   "metadata": {},
   "outputs": [
    {
     "name": "stdout",
     "output_type": "stream",
     "text": [
      "beta: 0.0\n",
      "beta: 0.1\n",
      "beta: 0.2\n",
      "beta: 0.30000000000000004\n",
      "beta: 0.4\n",
      "beta: 0.5\n",
      "beta: 0.6000000000000001\n",
      "beta: 0.7000000000000001\n",
      "beta: 0.8\n",
      "beta: 0.9\n"
     ]
    }
   ],
   "source": [
    "data = generate_data_multi(0.9, 0.1, 5000, 5)\n",
    "with open('assumption_check_5000_edges_09_01_multi.csv', 'w', newline='') as csvfile:\n",
    "    writer = csv.writer(csvfile)\n",
    "    writer.writerows(data)"
   ]
  },
  {
   "cell_type": "code",
   "execution_count": 6,
   "metadata": {},
   "outputs": [
    {
     "name": "stdout",
     "output_type": "stream",
     "text": [
      "beta: 0.0\n",
      "beta: 0.1\n",
      "beta: 0.2\n",
      "beta: 0.30000000000000004\n",
      "beta: 0.4\n",
      "beta: 0.5\n",
      "beta: 0.6000000000000001\n",
      "beta: 0.7000000000000001\n",
      "beta: 0.8\n",
      "beta: 0.9\n"
     ]
    }
   ],
   "source": [
    "data = generate_data_multi(0.1, 0.9, 5000, 5)\n",
    "with open('assumption_check_5000_edges_01_09_multi.csv', 'w', newline='') as csvfile:\n",
    "    writer = csv.writer(csvfile)\n",
    "    writer.writerows(data)"
   ]
  },
  {
   "cell_type": "code",
   "execution_count": 8,
   "metadata": {},
   "outputs": [
    {
     "name": "stdout",
     "output_type": "stream",
     "text": [
      "beta: 0.0\n",
      "beta: 0.1\n",
      "beta: 0.2\n",
      "beta: 0.30000000000000004\n",
      "beta: 0.4\n",
      "beta: 0.5\n",
      "beta: 0.6000000000000001\n",
      "beta: 0.7000000000000001\n",
      "beta: 0.8\n",
      "beta: 0.9\n"
     ]
    }
   ],
   "source": [
    "data = generate_data_multi(0.6, 0.4, 5000, 5)\n",
    "with open('assumption_check_5000_edges_06_04_multi.csv', 'w', newline='') as csvfile:\n",
    "    writer = csv.writer(csvfile)\n",
    "    writer.writerows(data)"
   ]
  },
  {
   "cell_type": "code",
   "execution_count": 57,
   "metadata": {},
   "outputs": [
    {
     "name": "stdout",
     "output_type": "stream",
     "text": [
      "beta: 0.0\n",
      "beta: 0.1\n",
      "beta: 0.2\n",
      "beta: 0.30000000000000004\n",
      "beta: 0.4\n",
      "beta: 0.5\n",
      "beta: 0.6000000000000001\n",
      "beta: 0.7000000000000001\n",
      "beta: 0.8\n",
      "beta: 0.9\n"
     ]
    }
   ],
   "source": [
    "data = generate_data_multi_sqprop(0.9, 0.1, 5000, 5)\n",
    "with open('assumption_check_5000_edges_09_01_multi_sqprop.csv', 'w', newline='') as csvfile:\n",
    "    writer = csv.writer(csvfile)\n",
    "    writer.writerows(data)"
   ]
  },
  {
   "cell_type": "code",
   "execution_count": 58,
   "metadata": {},
   "outputs": [
    {
     "name": "stdout",
     "output_type": "stream",
     "text": [
      "beta: 0.0\n",
      "beta: 0.1\n",
      "beta: 0.2\n",
      "beta: 0.30000000000000004\n",
      "beta: 0.4\n",
      "beta: 0.5\n",
      "beta: 0.6000000000000001\n",
      "beta: 0.7000000000000001\n",
      "beta: 0.8\n",
      "beta: 0.9\n"
     ]
    }
   ],
   "source": [
    "data = generate_data_multi_sqprop(0.6, 0.4, 5000, 5)\n",
    "with open('assumption_check_5000_edges_06_04_multi_sqprop.csv', 'w', newline='') as csvfile:\n",
    "    writer = csv.writer(csvfile)\n",
    "    writer.writerows(data)"
   ]
  },
  {
   "cell_type": "code",
   "execution_count": 59,
   "metadata": {},
   "outputs": [
    {
     "name": "stdout",
     "output_type": "stream",
     "text": [
      "beta: 0.0\n",
      "beta: 0.1\n",
      "beta: 0.2\n",
      "beta: 0.30000000000000004\n",
      "beta: 0.4\n",
      "beta: 0.5\n",
      "beta: 0.6000000000000001\n",
      "beta: 0.7000000000000001\n",
      "beta: 0.8\n",
      "beta: 0.9\n"
     ]
    }
   ],
   "source": [
    "data = generate_data_multi_sqprop(0.1, 0.9, 5000, 5)\n",
    "with open('assumption_check_5000_edges_01_09_multi_sqprop.csv', 'w', newline='') as csvfile:\n",
    "    writer = csv.writer(csvfile)\n",
    "    writer.writerows(data)"
   ]
  },
  {
   "cell_type": "code",
   "execution_count": 55,
   "metadata": {},
   "outputs": [
    {
     "name": "stdout",
     "output_type": "stream",
     "text": [
      "beta: 0.0\n",
      "beta: 0.1\n",
      "beta: 0.2\n",
      "beta: 0.30000000000000004\n",
      "beta: 0.4\n",
      "beta: 0.5\n",
      "beta: 0.6000000000000001\n",
      "beta: 0.7000000000000001\n",
      "beta: 0.8\n",
      "beta: 0.9\n",
      "beta: 0.0\n",
      "beta: 0.1\n",
      "beta: 0.2\n",
      "beta: 0.30000000000000004\n",
      "beta: 0.4\n",
      "beta: 0.5\n",
      "beta: 0.6000000000000001\n",
      "beta: 0.7000000000000001\n",
      "beta: 0.8\n",
      "beta: 0.9\n",
      "beta: 0.0\n",
      "beta: 0.1\n",
      "beta: 0.2\n",
      "beta: 0.30000000000000004\n",
      "beta: 0.4\n",
      "beta: 0.5\n",
      "beta: 0.6000000000000001\n",
      "beta: 0.7000000000000001\n",
      "beta: 0.8\n",
      "beta: 0.9\n"
     ]
    }
   ],
   "source": [
    "data = generate_data_multi_assm0(0.9, 0.1, 5000, 5)\n",
    "with open('assumption_check_5000_edges_09_01_multi_assm0.csv', 'w', newline='') as csvfile:\n",
    "    writer = csv.writer(csvfile)\n",
    "    writer.writerows(data)\n",
    "\n",
    "data = generate_data_multi_assm0(0.6, 0.4, 5000, 5)\n",
    "with open('assumption_check_5000_edges_06_04_multi_assm0.csv', 'w', newline='') as csvfile:\n",
    "    writer = csv.writer(csvfile)\n",
    "    writer.writerows(data)\n",
    "\n",
    "data = generate_data_multi_assm0(0.1, 0.9, 5000, 5)\n",
    "with open('assumption_check_5000_edges_01_09_multi_assm0.csv', 'w', newline='') as csvfile:\n",
    "    writer = csv.writer(csvfile)\n",
    "    writer.writerows(data)"
   ]
  }
 ],
 "metadata": {
  "kernelspec": {
   "display_name": "Python 3",
   "language": "python",
   "name": "python3"
  },
  "language_info": {
   "codemirror_mode": {
    "name": "ipython",
    "version": 3
   },
   "file_extension": ".py",
   "mimetype": "text/x-python",
   "name": "python",
   "nbconvert_exporter": "python",
   "pygments_lexer": "ipython3",
   "version": "3.10.6"
  }
 },
 "nbformat": 4,
 "nbformat_minor": 2
}
