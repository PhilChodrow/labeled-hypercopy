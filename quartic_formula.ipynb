{
 "cells": [
  {
   "cell_type": "code",
   "execution_count": 1,
   "metadata": {},
   "outputs": [],
   "source": [
    "from math import pi\n",
    "from cmath import exp, sqrt\n",
    "import numpy as np\n",
    "import csv"
   ]
  },
  {
   "cell_type": "code",
   "execution_count": 2,
   "metadata": {},
   "outputs": [],
   "source": [
    "def roots2(a,b,c):\n",
    "    bp=b/2    \n",
    "    delta=bp*bp-a*c\n",
    "    u1=(-bp-delta**.5)/a\n",
    "    u2=-u1-b/a\n",
    "    return u1,u2  "
   ]
  },
  {
   "cell_type": "code",
   "execution_count": 3,
   "metadata": {},
   "outputs": [],
   "source": [
    "J=exp(2j*pi/3)\n",
    "Jc=1/J\n",
    "\n",
    "def cardan(a,b,c,d):\n",
    "    u=np.empty(2,np.complex128)\n",
    "    z0=b/3/a\n",
    "    a2,b2 = a*a,b*b    \n",
    "    p=-b2/3/a2 +c/a\n",
    "    q=(b/27*(2*b2/a2-9*c/a)+d)/a\n",
    "    D=-4*p*p*p-27*q*q\n",
    "    r=sqrt(-D/27+0j)        \n",
    "    u=((-q-r)/2)**0.33333333333333333333333\n",
    "    v=((-q+r)/2)**0.33333333333333333333333\n",
    "    w=u*v\n",
    "    w0=abs(w+p/3)\n",
    "    w1=abs(w*J+p/3)\n",
    "    w2=abs(w*Jc+p/3)\n",
    "    if w0<w1: \n",
    "        if w2<w0 : v*=Jc\n",
    "    elif w2<w1 : v*=Jc\n",
    "    else: v*=J        \n",
    "    return [u+v-z0, u*J+v*Jc-z0,u*Jc+v*J-z0]"
   ]
  },
  {
   "cell_type": "code",
   "execution_count": 12,
   "metadata": {},
   "outputs": [],
   "source": [
    "p = 0.6\n",
    "q = 0.2\n",
    "r = 3 # FORMERLY: r = 1\n",
    "b = 0.9"
   ]
  },
  {
   "cell_type": "markdown",
   "metadata": {},
   "source": [
    "# Old a,b,c,d vals"
   ]
  },
  {
   "cell_type": "code",
   "execution_count": 13,
   "metadata": {},
   "outputs": [],
   "source": [
    "solutions = [[\"solution 1\", \"solution 2\", \"solution 3\", \"beta\"]]\n",
    "beta_vals = np.arange(0, 1, step = 0.001)\n",
    "for b in beta_vals:\n",
    "    a = (1 - p) * ((q - 1) ** 2) - ((1 - p) ** 3)\n",
    "\n",
    "    b_1 = (1 - p) * (q - 1) * (2 * r * b - q + 1) + (q - 1) * (2 * r * (1 - b) * (1 - p) + ((q - 1) ** 2) - 2 * r * b * (q - 1))\n",
    "    b_2 = 2 * r * (1 - b) * ((q - 1) ** 2)\n",
    "    b_3 = -2 * ((1 - p) ** 2) * (1 - q) - 4 * r  * b * ((1 - p) ** 2)\n",
    "    b_val = b_1 + b_2 - b_3\n",
    "\n",
    "    c_1 = (2 * r * b - q + 1) * (2 * r * (1 - b) * (1 - p) + ((q - 1) ** 2) - 2 * r * b * (q - 1)) + (q - 1) * (2 * r * (1 - b) * (q - 1) - 4 * (r ** 2) * b * (1 - b))\n",
    "    c_2 = 8 * (r ** 2) * ((1 - b) ** 2) * (q - 1)\n",
    "    c_3 = (1 - p) * ((1 - q) ** 2) + 4 * r * b * (1 - p) * (1 - q) + 4 * (r ** 2) * (b ** 2) * (1 - p)\n",
    "    c = c_1 + c_2 - c_3\n",
    "\n",
    "    d_1 = (2 * r * b - q + 1) * (2 * r * (1 - b) * (q - 1) - 4 * (r ** 2) * b * (1 - b))\n",
    "    d_2 = 8 * (r ** 3) * ((1 - b) ** 3)\n",
    "    d_3 = 0\n",
    "    d = d_1 + d_2 - d_3\n",
    "\n",
    "    solution = cardan(a, b_val, c, d)\n",
    "    solution = [value.real for value in solution]\n",
    "    solution.append(b)\n",
    "    solutions.append(solution)"
   ]
  },
  {
   "cell_type": "code",
   "execution_count": 9,
   "metadata": {},
   "outputs": [],
   "source": [
    "# solns from old a,b,c,d vals\n",
    "# with open('analytic_results.csv', 'w', newline='') as csvfile:\n",
    "#     writer = csv.writer(csvfile)\n",
    "#     writer.writerows(solutions)"
   ]
  },
  {
   "cell_type": "code",
   "execution_count": 9,
   "metadata": {},
   "outputs": [],
   "source": [
    "# solns from new a,b,c,d vals\n",
    "# with open('analytic_results_new.csv', 'w', newline='') as csvfile:\n",
    "#     writer = csv.writer(csvfile)\n",
    "#     writer.writerows(solutions)"
   ]
  },
  {
   "cell_type": "code",
   "execution_count": 14,
   "metadata": {},
   "outputs": [],
   "source": [
    "# solns from newest a,b,c,d vals\n",
    "with open('analytic_results_newest.csv', 'w', newline='') as csvfile:\n",
    "    writer = csv.writer(csvfile)\n",
    "    writer.writerows(solutions)"
   ]
  }
 ],
 "metadata": {
  "kernelspec": {
   "display_name": "Python 3",
   "language": "python",
   "name": "python3"
  },
  "language_info": {
   "codemirror_mode": {
    "name": "ipython",
    "version": 3
   },
   "file_extension": ".py",
   "mimetype": "text/x-python",
   "name": "python",
   "nbconvert_exporter": "python",
   "pygments_lexer": "ipython3",
   "version": "3.10.6"
  }
 },
 "nbformat": 4,
 "nbformat_minor": 2
}
