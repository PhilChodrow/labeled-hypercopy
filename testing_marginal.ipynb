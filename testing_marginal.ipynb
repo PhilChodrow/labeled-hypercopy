{
 "cells": [
  {
   "cell_type": "code",
   "execution_count": 9,
   "metadata": {},
   "outputs": [],
   "source": [
    "%load_ext autoreload\n",
    "%autoreload 2\n",
    "import numpy as np\n",
    "import poisson_hypergraph\n",
    "import xgi\n",
    "import matplotlib.pyplot as plt\n",
    "from matplotlib import colormaps as cm\n",
    "import math"
   ]
  },
  {
   "cell_type": "markdown",
   "metadata": {},
   "source": [
    "# Define functions"
   ]
  },
  {
   "cell_type": "code",
   "execution_count": 18,
   "metadata": {},
   "outputs": [],
   "source": [
    "def generate_graph(true_theta, timesteps):\n",
    "    true_p, true_q, gamma_nu, gamma_nr, gamma_eu, gamma_er = true_theta\n",
    "    H = xgi.Hypergraph([[0, 1]])\n",
    "    H.set_node_attributes({0 : 0, 1 : 1}, name = \"label\")\n",
    "    GH = poisson_hypergraph.GH(H, [0, 1], true_p, true_q)\n",
    "    GH.add_hyperedge(timesteps, gamma_nu, gamma_nr, gamma_eu, gamma_er)\n",
    "    return GH"
   ]
  },
  {
   "cell_type": "code",
   "execution_count": 17,
   "metadata": {},
   "outputs": [],
   "source": [
    "def e_prime_prob(GH, e_prime_index, theta):\n",
    "    edges = GH.get_edges()\n",
    "    e_prime = edges[e_prime_index]\n",
    "    summation = 0\n",
    "    for e_index in range(e_prime_index):\n",
    "        e = edges[e_index]\n",
    "        for u_index in e.intersection(e_prime):\n",
    "            summation += GH.likelihood(e_index, u_index, e_prime_index, theta)\n",
    "    return summation"
   ]
  },
  {
   "cell_type": "code",
   "execution_count": 4,
   "metadata": {},
   "outputs": [],
   "source": [
    "def p_q_likelihoods(GH, grain, gammas):\n",
    "    edges = GH.get_edges()\n",
    "    step = 1 / grain\n",
    "\n",
    "    gamma_nu, gamma_nr, gamma_eu, gamma_er = gammas\n",
    "\n",
    "    p_seq = np.arange(0 + step, 1, step = step)\n",
    "    q_seq = np.arange(0 + step, 1, step = step)\n",
    "\n",
    "    likelihood_values = np.zeros((grain - 1, grain - 1))\n",
    "\n",
    "    for p_index in range(grain - 1):\n",
    "        p = p_seq[p_index]\n",
    "        print(p)\n",
    "        for q_index in range(grain - 1):\n",
    "            q = q_seq[q_index]\n",
    "            theta = [p, q, gamma_nu, gamma_nr, gamma_eu, gamma_er]\n",
    "            this_likelihood = 0\n",
    "            for e_prime_index in range(1, len(edges)):\n",
    "                this_likelihood += np.log(e_prime_prob(GH, e_prime_index, theta))\n",
    "            likelihood_values[q_index, p_index] = this_likelihood\n",
    "    \n",
    "    return likelihood_values"
   ]
  },
  {
   "cell_type": "code",
   "execution_count": 5,
   "metadata": {},
   "outputs": [],
   "source": [
    "def make_plot(lik_values, grain):\n",
    "    step = int(grain/10)\n",
    "\n",
    "    fig4,ax4 = plt.subplots(1,1)\n",
    "    cmap = cm['hot']\n",
    "    cmap.set_bad('black',1.)\n",
    "    img = plt.imshow(lik_values, cmap=cmap, interpolation='nearest', origin = \"lower\")\n",
    "    ax4.set_xticks(list(range(0, grain - 1, step)))\n",
    "    ax4.set_yticks(list(range(0, grain - 1, step)))\n",
    "    ax4.set_xticklabels([.1, .2, .3, .4, .5, .6, .7, .8, .9], rotation=90)\n",
    "    ax4.set_yticklabels([.1, .2, .3, .4, .5, .6, .7, .8, .9])\n",
    "    ax4.set_xlabel(\"p\")\n",
    "    ax4.set_ylabel(\"q\")\n",
    "    plt.show()"
   ]
  },
  {
   "cell_type": "code",
   "execution_count": 6,
   "metadata": {},
   "outputs": [],
   "source": [
    "def experiment(true_p, true_q, timesteps, grain):\n",
    "    gamma_nu, gamma_nr, gamma_eu, gamma_er = 0.75, 0.25, 0.75, 0.25\n",
    "    true_theta = [true_p, true_q, gamma_nu, gamma_nr, gamma_eu, gamma_er]\n",
    "    GH = generate_graph(true_theta, timesteps)\n",
    "\n",
    "    lik_values = p_q_likelihoods(GH, grain, [gamma_nu, gamma_nr, gamma_eu, gamma_er])\n",
    "\n",
    "    return(lik_values)"
   ]
  },
  {
   "cell_type": "code",
   "execution_count": 7,
   "metadata": {},
   "outputs": [],
   "source": [
    "def return_max(data):\n",
    "    maxf = float('-inf')\n",
    "    for row_index in range(len(data)):\n",
    "        for col_index in range(len(data[row_index])):\n",
    "            if float(data[row_index][col_index]) > maxf:\n",
    "                maxf = float(data[row_index][col_index])\n",
    "                max_indices = [row_index, col_index]\n",
    "    return(max_indices)"
   ]
  },
  {
   "cell_type": "markdown",
   "metadata": {},
   "source": [
    "# Create Heatmaps"
   ]
  },
  {
   "cell_type": "code",
   "execution_count": 40,
   "metadata": {},
   "outputs": [
    {
     "name": "stdout",
     "output_type": "stream",
     "text": [
      "0.1\n",
      "0.2\n",
      "0.30000000000000004\n",
      "0.4\n",
      "0.5\n",
      "0.6\n",
      "0.7000000000000001\n",
      "0.8\n",
      "0.9\n"
     ]
    }
   ],
   "source": [
    "lik_values_9_9 = experiment(0.9, 0.9, 500, 10)"
   ]
  },
  {
   "cell_type": "code",
   "execution_count": 41,
   "metadata": {},
   "outputs": [
    {
     "data": {
      "text/plain": [
       "[8, 8]"
      ]
     },
     "execution_count": 41,
     "metadata": {},
     "output_type": "execute_result"
    }
   ],
   "source": [
    "return_max(lik_values_9_9) # This is the INDEX of the max, so [8, 8] -> [0.9, 0.9]"
   ]
  },
  {
   "cell_type": "code",
   "execution_count": 42,
   "metadata": {},
   "outputs": [
    {
     "data": {
      "image/png": "[encoded data removed]",
      "text/plain": [
       "<Figure size 640x480 with 1 Axes>"
      ]
     },
     "metadata": {},
     "output_type": "display_data"
    }
   ],
   "source": [
    "make_plot(lik_values_9_9, grain = 10)"
   ]
  },
  {
   "cell_type": "code",
   "execution_count": 27,
   "metadata": {},
   "outputs": [
    {
     "name": "stdout",
     "output_type": "stream",
     "text": [
      "0.1\n",
      "0.2\n",
      "0.30000000000000004\n",
      "0.4\n",
      "0.5\n",
      "0.6\n",
      "0.7000000000000001\n",
      "0.8\n",
      "0.9\n"
     ]
    }
   ],
   "source": [
    "lik_values_5_5 = experiment(0.5, 0.5, 500, 10)"
   ]
  },
  {
   "cell_type": "code",
   "execution_count": 28,
   "metadata": {},
   "outputs": [
    {
     "data": {
      "text/plain": [
       "[4, 4]"
      ]
     },
     "execution_count": 28,
     "metadata": {},
     "output_type": "execute_result"
    }
   ],
   "source": [
    "return_max(lik_values_5_5)"
   ]
  },
  {
   "cell_type": "code",
   "execution_count": 29,
   "metadata": {},
   "outputs": [
    {
     "data": {
      "image/png": "[encoded data removed]",
      "text/plain": [
       "<Figure size 640x480 with 1 Axes>"
      ]
     },
     "metadata": {},
     "output_type": "display_data"
    }
   ],
   "source": [
    "make_plot(lik_values_5_5, grain = 10)"
   ]
  },
  {
   "cell_type": "code",
   "execution_count": 30,
   "metadata": {},
   "outputs": [
    {
     "name": "stdout",
     "output_type": "stream",
     "text": [
      "0.1\n",
      "0.2\n",
      "0.30000000000000004\n",
      "0.4\n",
      "0.5\n",
      "0.6\n",
      "0.7000000000000001\n",
      "0.8\n",
      "0.9\n"
     ]
    }
   ],
   "source": [
    "lik_values_1_1 = experiment(0.1, 0.1, 500, 10)"
   ]
  },
  {
   "cell_type": "code",
   "execution_count": 31,
   "metadata": {},
   "outputs": [
    {
     "data": {
      "text/plain": [
       "[0, 0]"
      ]
     },
     "execution_count": 31,
     "metadata": {},
     "output_type": "execute_result"
    }
   ],
   "source": [
    "return_max(lik_values_1_1)"
   ]
  },
  {
   "cell_type": "code",
   "execution_count": 32,
   "metadata": {},
   "outputs": [
    {
     "data": {
      "image/png": "[encoded data removed]",
      "text/plain": [
       "<Figure size 640x480 with 1 Axes>"
      ]
     },
     "metadata": {},
     "output_type": "display_data"
    }
   ],
   "source": [
    "make_plot(lik_values_1_1, 10)"
   ]
  },
  {
   "cell_type": "code",
   "execution_count": 33,
   "metadata": {},
   "outputs": [
    {
     "name": "stdout",
     "output_type": "stream",
     "text": [
      "0.1\n",
      "0.2\n",
      "0.30000000000000004\n",
      "0.4\n",
      "0.5\n",
      "0.6\n",
      "0.7000000000000001\n",
      "0.8\n",
      "0.9\n"
     ]
    }
   ],
   "source": [
    "lik_values_9_1 = experiment(0.9, 0.1, 500, 10)"
   ]
  },
  {
   "cell_type": "code",
   "execution_count": 34,
   "metadata": {},
   "outputs": [
    {
     "data": {
      "text/plain": [
       "[0, 8]"
      ]
     },
     "execution_count": 34,
     "metadata": {},
     "output_type": "execute_result"
    }
   ],
   "source": [
    "return_max(lik_values_9_1)"
   ]
  },
  {
   "cell_type": "code",
   "execution_count": 35,
   "metadata": {},
   "outputs": [
    {
     "data": {
      "image/png": "[encoded data removed]",
      "text/plain": [
       "<Figure size 640x480 with 1 Axes>"
      ]
     },
     "metadata": {},
     "output_type": "display_data"
    }
   ],
   "source": [
    "make_plot(lik_values_9_1, 10)"
   ]
  },
  {
   "cell_type": "code",
   "execution_count": 37,
   "metadata": {},
   "outputs": [
    {
     "name": "stdout",
     "output_type": "stream",
     "text": [
      "0.1\n",
      "0.2\n",
      "0.30000000000000004\n",
      "0.4\n",
      "0.5\n",
      "0.6\n",
      "0.7000000000000001\n",
      "0.8\n",
      "0.9\n"
     ]
    }
   ],
   "source": [
    "lik_values_1_9 = experiment(0.1, 0.9, 500, 10)"
   ]
  },
  {
   "cell_type": "code",
   "execution_count": 38,
   "metadata": {},
   "outputs": [
    {
     "data": {
      "text/plain": [
       "[8, 0]"
      ]
     },
     "execution_count": 38,
     "metadata": {},
     "output_type": "execute_result"
    }
   ],
   "source": [
    "return_max(lik_values_1_9)"
   ]
  },
  {
   "cell_type": "code",
   "execution_count": 39,
   "metadata": {},
   "outputs": [
    {
     "data": {
      "image/png": "[encoded data removed]",
      "text/plain": [
       "<Figure size 640x480 with 1 Axes>"
      ]
     },
     "metadata": {},
     "output_type": "display_data"
    }
   ],
   "source": [
    "make_plot(lik_values_1_9, 10)"
   ]
  }
 ],
 "metadata": {
  "kernelspec": {
   "display_name": "Python 3",
   "language": "python",
   "name": "python3"
  },
  "language_info": {
   "codemirror_mode": {
    "name": "ipython",
    "version": 3
   },
   "file_extension": ".py",
   "mimetype": "text/x-python",
   "name": "python",
   "nbconvert_exporter": "python",
   "pygments_lexer": "ipython3",
   "version": "3.10.6"
  }
 },
 "nbformat": 4,
 "nbformat_minor": 2
}
