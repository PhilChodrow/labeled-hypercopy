{
 "cells": [
  {
   "cell_type": "code",
   "execution_count": 1,
   "metadata": {},
   "outputs": [],
   "source": [
    "%load_ext autoreload\n",
    "%autoreload 2\n",
    "import numpy as np\n",
    "import poisson_hypergraph\n",
    "import xgi\n",
    "import matplotlib.pyplot as plt\n",
    "from matplotlib import colormaps as cm"
   ]
  },
  {
   "cell_type": "markdown",
   "metadata": {},
   "source": [
    "# Define functions"
   ]
  },
  {
   "cell_type": "code",
   "execution_count": 2,
   "metadata": {},
   "outputs": [],
   "source": [
    "def generate_graph(true_theta, timesteps):\n",
    "    true_p, true_q, gamma_nu, gamma_nr, gamma_eu, gamma_er = true_theta\n",
    "    H = xgi.Hypergraph([[0, 1, 2, 3]])\n",
    "    H.set_node_attributes({0 : 0, 1 : 1, 2 : 1, 3 : 0}, name = \"label\")\n",
    "    GH = poisson_hypergraph.GH(H, [0, 1], true_p, true_q)\n",
    "    GH.add_hyperedge(timesteps, gamma_nu, gamma_nr, gamma_eu, gamma_er)\n",
    "    return GH"
   ]
  },
  {
   "cell_type": "code",
   "execution_count": 3,
   "metadata": {},
   "outputs": [],
   "source": [
    "def e_prime_prob(GH, e_prime_index, theta):\n",
    "    edges = GH.get_edges()\n",
    "    e_prime = edges[e_prime_index]\n",
    "    summation = 0\n",
    "    for e_index in range(e_prime_index):\n",
    "        e = edges[e_index]\n",
    "        for u_index in (e and e_prime):\n",
    "            summation += GH.likelihood(e_index, u_index, e_prime_index, theta)\n",
    "    return summation"
   ]
  },
  {
   "cell_type": "code",
   "execution_count": 4,
   "metadata": {},
   "outputs": [],
   "source": [
    "def p_q_likelihoods(GH, grain, gammas):\n",
    "    edges = GH.get_edges()\n",
    "\n",
    "    gamma_nu, gamma_nr, gamma_eu, gamma_er = gammas\n",
    "\n",
    "    P = np.linspace(0, 1, num = grain)\n",
    "    Q = np.linspace(0, 1, num = grain)\n",
    "    \n",
    "    likelihood_values = np.zeros((grain, grain))\n",
    "\n",
    "    for p_index, p in enumerate(P):\n",
    "        for q_index, q in enumerate(Q):\n",
    "            theta = [p, q, gamma_nu, gamma_nr, gamma_eu, gamma_er]\n",
    "            this_likelihood = 0\n",
    "            for e_prime_index in range(1, len(edges)):\n",
    "                this_likelihood += np.log(e_prime_prob(GH, e_prime_index, theta))\n",
    "            likelihood_values[q_index, p_index] = this_likelihood\n",
    "    \n",
    "    q_max, p_max = np.unravel_index(np.argmax(likelihood_values, axis=None), likelihood_values.shape)\n",
    "    \n",
    "    return likelihood_values, p_max, q_max"
   ]
  },
  {
   "cell_type": "code",
   "execution_count": 5,
   "metadata": {},
   "outputs": [],
   "source": [
    "def make_plot(lik_values, p_max, q_max):\n",
    "\n",
    "    \n",
    "    bins = lik_values.shape[0]\n",
    "    \n",
    "    P = np.linspace(0, 1, num = bins)\n",
    "    Q = np.linspace(0, 1, num = bins)\n",
    "\n",
    "    fig4,ax4 = plt.subplots(1,1)\n",
    "    cmap = cm['hot']\n",
    "    cmap.set_bad('black',1.)\n",
    "    img = plt.imshow(lik_values, cmap=cmap, interpolation='nearest', origin = \"lower\")\n",
    "    ax4.set_xticks(ticks = np.linspace(0, 1, 11)*bins, labels = np.round(np.linspace(0, 1, 11), 2))\n",
    "    ax4.set_yticks(ticks = np.linspace(0, 1, 11)*bins, labels = np.round(np.linspace(0, 1, 11), 2))\n",
    "    # ax4.set_yticks(ticks = np.linspace(0, 1, 10), labels = np.linspace(0, 1, 10))\n",
    "    # ax4.set_xticks(list(range(0, grain - 1, step)))\n",
    "    # ax4.set_yticks(list(range(0, grain - 1, step)))\n",
    "    # ax4.set_xticklabels([.1, .2, .3, .4, .5, .6, .7, .8, .9], rotation=90)\n",
    "    # ax4.set_yticklabels([.1, .2, .3, .4, .5, .6, .7, .8, .9])\n",
    "    ax4.set_xlabel(\"p\")\n",
    "    ax4.set_ylabel(\"q\")\n",
    "    ax4.scatter([p_max], [q_max], zorder = 100, color = \"white\", edgecolors=\"black\")\n",
    "    plt.colorbar()\n",
    "    \n",
    "    ax4.set_title(r\"$\\hat{p} = $\" + f\"{P[p_max]:.2f}\" + \"  |  \" r\"$\\hat{q} = $\" + f\"{Q[q_max]:.2f}\")\n",
    "    \n",
    "    \n",
    "    \n",
    "    \n",
    "    \n",
    "    plt.show()\n",
    "    \n",
    "    \n",
    "    "
   ]
  },
  {
   "cell_type": "code",
   "execution_count": 6,
   "metadata": {},
   "outputs": [],
   "source": [
    "def experiment(true_p, true_q, timesteps, grain):\n",
    "    gamma_nu, gamma_nr, gamma_eu, gamma_er = 0.75, 0.25, 0.75, 0.25\n",
    "    true_theta = [true_p, true_q, gamma_nu, gamma_nr, gamma_eu, gamma_er]\n",
    "    GH = generate_graph(true_theta, timesteps)\n",
    "\n",
    "    lik_values, p_max, q_max = p_q_likelihoods(GH, grain, [gamma_nu, gamma_nr, gamma_eu, gamma_er])\n",
    "\n",
    "    return(GH, lik_values, p_max, q_max)"
   ]
  },
  {
   "cell_type": "markdown",
   "metadata": {},
   "source": [
    "# Experiment Highlighting a Bug\n",
    "\n",
    "In this experiment, we add just a single edge to the hypergraph, which we then inspect:"
   ]
  },
  {
   "cell_type": "code",
   "execution_count": 16,
   "metadata": {},
   "outputs": [
    {
     "name": "stderr",
     "output_type": "stream",
     "text": [
      "/var/folders/xn/wvbwvw0d6dx46h9_2bkrknnw0000gn/T/ipykernel_80260/3284248317.py:16: RuntimeWarning: divide by zero encountered in log\n",
      "  this_likelihood += np.log(e_prime_prob(GH, e_prime_index, theta))\n"
     ]
    },
    {
     "data": {
      "image/png": "[encoded data removed]",
      "text/plain": [
       "<Figure size 640x480 with 2 Axes>"
      ]
     },
     "metadata": {},
     "output_type": "display_data"
    }
   ],
   "source": [
    "GH, lik_values, p_max, q_max = experiment(0.4, 0.4, 1, 50)\n",
    "make_plot(lik_values, p_max, q_max)"
   ]
  },
  {
   "cell_type": "code",
   "execution_count": 17,
   "metadata": {},
   "outputs": [
    {
     "data": {
      "text/plain": [
       "[{0, 1, 2, 3}, {0, 1, 2}]"
      ]
     },
     "execution_count": 17,
     "metadata": {},
     "output_type": "execute_result"
    }
   ],
   "source": [
    "GH.get_edges()"
   ]
  },
  {
   "cell_type": "markdown",
   "metadata": {},
   "source": [
    "The estimate of $p$ appears to be off. We should have some probability of sampling a node whose label agrees with $u$; for example, if $u = 1$ in this toy scenario, we could have sampled the $2$ through the process governed by $p$. "
   ]
  },
  {
   "cell_type": "markdown",
   "metadata": {},
   "source": []
  }
 ],
 "metadata": {
  "kernelspec": {
   "display_name": "Python 3",
   "language": "python",
   "name": "python3"
  },
  "language_info": {
   "codemirror_mode": {
    "name": "ipython",
    "version": 3
   },
   "file_extension": ".py",
   "mimetype": "text/x-python",
   "name": "python",
   "nbconvert_exporter": "python",
   "pygments_lexer": "ipython3",
   "version": "3.9.16"
  }
 },
 "nbformat": 4,
 "nbformat_minor": 2
}
